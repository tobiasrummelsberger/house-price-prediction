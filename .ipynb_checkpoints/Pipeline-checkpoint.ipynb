{
 "cells": [
  {
   "cell_type": "markdown",
   "metadata": {},
   "source": [
    "# BI Monthly Challenge - House Price Prediction"
   ]
  },
  {
   "cell_type": "markdown",
   "metadata": {},
   "source": [
    "#### Import of data\n",
    "Defining the path and names of the input csv."
   ]
  },
  {
   "cell_type": "code",
   "execution_count": 1,
   "metadata": {},
   "outputs": [],
   "source": [
    "import random\n",
    "import numpy as np\n",
    "import os\n",
    "random.seed(42)\n",
    "np.random.seed(42)\n",
    "\n",
    "PATH = os.getcwd()\n",
    "\n",
    "DATA_PATH = '/obj/data/'\n",
    "MODEL_PATH = '/obj/model/'\n",
    "\n",
    "train_path = 'input_data/train.csv'\n",
    "pred_path = 'input_data/test.csv'"
   ]
  },
  {
   "cell_type": "code",
   "execution_count": 2,
   "metadata": {},
   "outputs": [
    {
     "name": "stdout",
     "output_type": "stream",
     "text": [
      "The data set contains 43 categorical features and 37 numerical features. The train data set contains 1168 rows and the test data set contains 292 rows.\n",
      "The categorical features are ['MSZoning', 'Street', 'Alley', 'LotShape', 'LandContour', 'Utilities', 'LotConfig', 'LandSlope', 'Neighborhood', 'Condition1', 'Condition2', 'BldgType', 'HouseStyle', 'RoofStyle', 'RoofMatl', 'Exterior1st', 'Exterior2nd', 'MasVnrType', 'ExterQual', 'ExterCond', 'Foundation', 'BsmtQual', 'BsmtCond', 'BsmtExposure', 'BsmtFinType1', 'BsmtFinType2', 'Heating', 'HeatingQC', 'CentralAir', 'Electrical', 'KitchenQual', 'Functional', 'FireplaceQu', 'GarageType', 'GarageFinish', 'GarageQual', 'GarageCond', 'PavedDrive', 'PoolQC', 'Fence', 'MiscFeature', 'SaleType', 'SaleCondition'] and the numerical features are ['Id', 'MSSubClass', 'LotFrontage', 'LotArea', 'OverallQual', 'OverallCond', 'YearBuilt', 'YearRemodAdd', 'MasVnrArea', 'BsmtFinSF1', 'BsmtFinSF2', 'BsmtUnfSF', 'TotalBsmtSF', '1stFlrSF', '2ndFlrSF', 'LowQualFinSF', 'GrLivArea', 'BsmtFullBath', 'BsmtHalfBath', 'FullBath', 'HalfBath', 'BedroomAbvGr', 'KitchenAbvGr', 'TotRmsAbvGrd', 'Fireplaces', 'GarageYrBlt', 'GarageCars', 'GarageArea', 'WoodDeckSF', 'OpenPorchSF', 'EnclosedPorch', '3SsnPorch', 'ScreenPorch', 'PoolArea', 'MiscVal', 'MoSold', 'YrSold']\n"
     ]
    }
   ],
   "source": [
    "import pandas as pd\n",
    "from load_data import load_data\n",
    "\n",
    "X_train, X_test, y_train, y_test = load_data(PATH + DATA_PATH + train_path)\n",
    "\n",
    "X_pred = pd.read_csv(PATH + DATA_PATH + pred_path)\n",
    "submission_index = X_pred['Id']"
   ]
  },
  {
   "cell_type": "markdown",
   "metadata": {},
   "source": [
    "### Exploratory Data Analysis\n",
    "Get an overview of the data and most important features by plotting a correlation matrix and a scatter plot."
   ]
  },
  {
   "cell_type": "code",
   "execution_count": 3,
   "metadata": {},
   "outputs": [
    {
     "data": {
      "text/plain": [
       "<Figure size 1000x800 with 2 Axes>"
      ]
     },
     "metadata": {},
     "output_type": "display_data"
    },
    {
     "data": {
      "text/plain": [
       "0"
      ]
     },
     "execution_count": 3,
     "metadata": {},
     "output_type": "execute_result"
    }
   ],
   "source": [
    "from exploratory_data_analysis.eda import plot_correlation_matrix, plot_scatter_matrix\n",
    "\n",
    "plot_correlation_matrix(X_train)\n",
    "#plot_scatter_matrix(X_train, columns=['SalePrice', 'LotArea'])"
   ]
  },
  {
   "cell_type": "markdown",
   "metadata": {},
   "source": [
    "### Data preprocessing"
   ]
  },
  {
   "cell_type": "markdown",
   "metadata": {},
   "source": [
    "#### Replacement of NAs\n",
    "NA values are replaced with either a 0 (in numerical columns) or 'None' (in categorical columns) or with the median of the column if feasible."
   ]
  },
  {
   "cell_type": "code",
   "execution_count": 4,
   "metadata": {},
   "outputs": [],
   "source": [
    "from feature_preprocessing import preprocess_alley, preprocess_LotFrontage, preprocess_MasVnrType, preprocess_BsmtQual, preprocess_BsmtCond, preprocess_BsmtExposure, preprocess_BsmtFinType1, preprocess_BsmtFinType2, preprocess_Electrical, preprocess_FireplaceQu, preprocess_GarageType, preprocess_GarageFinish, preprocess_GarageQual, preprocess_GarageCond, preprocess_PoolQC, preprocess_Fence, preprocess_MiscFeature, preprocess_MSZoning, preprocess_Utilities, preprocess_Exterior1st, preprocess_Exterior2nd, preprocess_KitchenQual, preprocess_Functional, preprocess_SaleType, preprocess_GarageYrBlt, preprocess_MasVnrArea, preprocess_MoSold, calculate_TotalSF, preprocess_YrSold\n",
    "import pandas as pd\n",
    "import numpy as np\n",
    "\n",
    "X_train, X_test, X_pred = preprocess_alley(X_train, X_test, X_pred)\n",
    "X_train, X_test, X_pred = preprocess_MSZoning(X_train, X_test, X_pred)\n",
    "X_train, X_test, X_pred = preprocess_LotFrontage(X_train, X_test, X_pred)\n",
    "X_train, X_test, X_pred = preprocess_MasVnrType(X_train, X_test, X_pred)\n",
    "X_train, X_test, X_pred = preprocess_BsmtQual(X_train, X_test, X_pred)\n",
    "X_train, X_test, X_pred = preprocess_BsmtCond(X_train, X_test, X_pred)\n",
    "X_train, X_test, X_pred = preprocess_BsmtExposure(X_train, X_test, X_pred)\n",
    "X_train, X_test, X_pred = preprocess_BsmtFinType1(X_train, X_test, X_pred)\n",
    "X_train, X_test, X_pred = preprocess_BsmtFinType2(X_train, X_test, X_pred)\n",
    "X_train, X_test, X_pred = preprocess_Electrical(X_train, X_test, X_pred)\n",
    "X_train, X_test, X_pred = preprocess_FireplaceQu(X_train, X_test, X_pred)\n",
    "X_train, X_test, X_pred = preprocess_GarageType(X_train, X_test, X_pred)\n",
    "X_train, X_test, X_pred = preprocess_GarageFinish(X_train, X_test, X_pred)\n",
    "X_train, X_test, X_pred = preprocess_GarageQual(X_train, X_test, X_pred)\n",
    "X_train, X_test, X_pred = preprocess_GarageCond(X_train, X_test, X_pred)\n",
    "X_train, X_test, X_pred = preprocess_PoolQC(X_train, X_test, X_pred)\n",
    "X_train, X_test, X_pred = preprocess_Fence(X_train, X_test, X_pred)\n",
    "X_train, X_test, X_pred = preprocess_MiscFeature(X_train, X_test, X_pred)\n",
    "X_train, X_test, X_pred = preprocess_Utilities(X_train, X_test, X_pred)\n",
    "X_train, X_test, X_pred = preprocess_Exterior1st(X_train, X_test, X_pred)\n",
    "X_train, X_test, X_pred = preprocess_Exterior2nd(X_train, X_test, X_pred)\n",
    "X_train, X_test, X_pred = preprocess_KitchenQual(X_train, X_test, X_pred)\n",
    "X_train, X_test, X_pred = preprocess_Functional(X_train, X_test, X_pred)\n",
    "X_train, X_test, X_pred = preprocess_SaleType(X_train, X_test, X_pred)\n",
    "X_train, X_test, X_pred = preprocess_GarageYrBlt(X_train, X_test, X_pred)\n",
    "X_train, X_test, X_pred = preprocess_MasVnrArea(X_train, X_test, X_pred)\n",
    "X_train, X_test, X_pred = preprocess_MoSold(X_train, X_test, X_pred)\n",
    "X_train, X_test, X_pred = preprocess_YrSold(X_train, X_test, X_pred)\n",
    "X_train, X_test, X_pred = calculate_TotalSF(X_train, X_test, X_pred)\n",
    "\n",
    "X_train.drop(columns=['Street', 'Alley', 'Utilities'], inplace=True)\n",
    "X_test.drop(columns=['Street', 'Alley', 'Utilities'], inplace=True)\n",
    "X_pred.drop(columns=['Street', 'Alley', 'Utilities'], inplace=True)\n"
   ]
  },
  {
   "cell_type": "markdown",
   "metadata": {},
   "source": [
    "#### One Hot Encoding\n",
    "Dummy Coding of categorical columns."
   ]
  },
  {
   "cell_type": "code",
   "execution_count": 5,
   "metadata": {},
   "outputs": [],
   "source": [
    "from feature_preprocessing import one_hot_encoding\n",
    "\n",
    "X_train.fillna(value=0, inplace=True)\n",
    "X_test.fillna(value=0, inplace=True)\n",
    "X_pred.fillna(value=0, inplace=True)\n",
    "\n",
    "X_train, X_test, X_pred = one_hot_encoding(X_train, X_test, X_pred)\n"
   ]
  },
  {
   "cell_type": "markdown",
   "metadata": {},
   "source": [
    "#### Scaling\n",
    "Scaling to a range between 0 and 1 // Mean of 0 and Variance of 1"
   ]
  },
  {
   "cell_type": "code",
   "execution_count": 6,
   "metadata": {},
   "outputs": [],
   "source": [
    "from feature_preprocessing import normalize_features, normalize_targets\n",
    "#X_train, X_test = normalize_features(X_train, X_test)"
   ]
  },
  {
   "cell_type": "markdown",
   "metadata": {},
   "source": [
    "#### Principal Component Analysis\n",
    "Dimensionality Reduction"
   ]
  },
  {
   "cell_type": "code",
   "execution_count": 7,
   "metadata": {},
   "outputs": [],
   "source": [
    "from feature_preprocessing import principal_component_analysis\n",
    "\n",
    "#X_train, X_test = principal_component_analysis(X_train, X_test, PATH)"
   ]
  },
  {
   "cell_type": "code",
   "execution_count": 8,
   "metadata": {},
   "outputs": [
    {
     "name": "stdout",
     "output_type": "stream",
     "text": [
      "(1168, 37)\n"
     ]
    }
   ],
   "source": [
    "from sklearn.decomposition import PCA\n",
    "\n",
    "#pca = PCA(n_components=0.8)\n",
    "\n",
    "#pca.fit(X=X_train)\n",
    "#X_train_decomposed = pca.transform(X_train)\n",
    "#X_test_decomposed = pca.transform(X_test)\n",
    "\n",
    "#X_train = pd.DataFrame(data=X_train_decomposed, index=X_train.index)\n",
    "#X_test = pd.DataFrame(data=X_test_decomposed, index=X_test.index)\n",
    "\n",
    "print(X_train.shape)"
   ]
  },
  {
   "cell_type": "markdown",
   "metadata": {},
   "source": [
    "### Building models"
   ]
  },
  {
   "cell_type": "markdown",
   "metadata": {},
   "source": [
    "#### XGBoost"
   ]
  },
  {
   "cell_type": "code",
   "execution_count": 9,
   "metadata": {},
   "outputs": [
    {
     "name": "stdout",
     "output_type": "stream",
     "text": [
      "Fitting 5 folds for each of 1 candidates, totalling 5 fits\n"
     ]
    },
    {
     "name": "stderr",
     "output_type": "stream",
     "text": [
      "[Parallel(n_jobs=1)]: Using backend SequentialBackend with 1 concurrent workers.\n",
      "[Parallel(n_jobs=1)]: Done   5 out of   5 | elapsed:    0.9s finished\n",
      "/Users/tobias/.local/share/virtualenvs/house-price-prediction-uTbjeW-P/lib/python3.6/site-packages/sklearn/model_selection/_search.py:841: DeprecationWarning: The default of the `iid` parameter will change from True to False in version 0.22 and will be removed in 0.24. This will change numeric results when test-set sizes are unequal.\n",
      "  DeprecationWarning)\n"
     ]
    },
    {
     "name": "stdout",
     "output_type": "stream",
     "text": [
      "MSE 893373418.7976304\n",
      "10.312361442559633\n"
     ]
    }
   ],
   "source": [
    "import xgboost as xgb\n",
    "from model import train_gridsearch_cv\n",
    "from model import negative_mean_absolute_percentage_error\n",
    "\n",
    "XGBoostRegressor = xgb.XGBRegressor()\n",
    "param_grid = {'eta':[0.2, 0.3, 0.5], \n",
    "              'max_deth':[3, 5], \n",
    "              'learning_rate':[0.01, 0.07], \n",
    "              'n_estimators':[1000,],\n",
    "              'booster':['gbtree',], \n",
    "              'min_child_weight':[0.5, 1.0, 2.0], \n",
    "              'subsample':[0.7, 1.0],\n",
    "              'random_state':[42,], \n",
    "              'tree_method': ['auto',], \n",
    "              'alpha': [2,],\n",
    "              'gamma': [1,],\n",
    "              'lambda':[1,], \n",
    "              'colsample_bytree': [1,]}\n",
    "param_grid = {}\n",
    "model_xgb = train_gridsearch_cv(XGBoostRegressor, X_train, y_train, param_grid)\n",
    "print(-negative_mean_absolute_percentage_error(estimator=model_xgb, X=X_test, y_true=y_test))"
   ]
  },
  {
   "cell_type": "markdown",
   "metadata": {},
   "source": [
    "#### sklearn Gradient Boosting Regressor"
   ]
  },
  {
   "cell_type": "code",
   "execution_count": 10,
   "metadata": {},
   "outputs": [
    {
     "name": "stdout",
     "output_type": "stream",
     "text": [
      "Fitting 5 folds for each of 2 candidates, totalling 10 fits\n"
     ]
    },
    {
     "name": "stderr",
     "output_type": "stream",
     "text": [
      "[Parallel(n_jobs=1)]: Using backend SequentialBackend with 1 concurrent workers.\n",
      "[Parallel(n_jobs=1)]: Done  10 out of  10 | elapsed:   31.2s finished\n",
      "/Users/tobias/.local/share/virtualenvs/house-price-prediction-uTbjeW-P/lib/python3.6/site-packages/sklearn/model_selection/_search.py:841: DeprecationWarning: The default of the `iid` parameter will change from True to False in version 0.22 and will be removed in 0.24. This will change numeric results when test-set sizes are unequal.\n",
      "  DeprecationWarning)\n"
     ]
    },
    {
     "name": "stdout",
     "output_type": "stream",
     "text": [
      "MSE 826394824.6326499\n",
      "9.799971113832003\n"
     ]
    }
   ],
   "source": [
    "from sklearn.ensemble import GradientBoostingRegressor\n",
    "from model import train_gridsearch_cv\n",
    "from model import negative_mean_absolute_percentage_error\n",
    "\n",
    "param_grid = {'n_estimators': [1000, 2000],\n",
    "              'learning_rate': [0.05],\n",
    "              'max_depth': [5],\n",
    "              'max_features': ['sqrt'],\n",
    "              'min_samples_leaf': [10],\n",
    "              'min_samples_split': [5],\n",
    "              'loss': ['huber']}\n",
    "\n",
    "model_gb = train_gridsearch_cv(GradientBoostingRegressor(), X_train, y_train, param_grid)\n",
    "print(-negative_mean_absolute_percentage_error(estimator=model_gb, X=X_test, y_true=y_test))"
   ]
  },
  {
   "cell_type": "markdown",
   "metadata": {},
   "source": [
    "#### sklearn Random Forest Regressor"
   ]
  },
  {
   "cell_type": "code",
   "execution_count": 11,
   "metadata": {},
   "outputs": [
    {
     "name": "stdout",
     "output_type": "stream",
     "text": [
      "Fitting 5 folds for each of 4 candidates, totalling 20 fits\n"
     ]
    },
    {
     "name": "stderr",
     "output_type": "stream",
     "text": [
      "[Parallel(n_jobs=1)]: Using backend SequentialBackend with 1 concurrent workers.\n",
      "[Parallel(n_jobs=1)]: Done  20 out of  20 | elapsed:    9.0s finished\n",
      "/Users/tobias/.local/share/virtualenvs/house-price-prediction-uTbjeW-P/lib/python3.6/site-packages/sklearn/model_selection/_search.py:841: DeprecationWarning: The default of the `iid` parameter will change from True to False in version 0.22 and will be removed in 0.24. This will change numeric results when test-set sizes are unequal.\n",
      "  DeprecationWarning)\n"
     ]
    },
    {
     "name": "stdout",
     "output_type": "stream",
     "text": [
      "MSE 917463152.0080231\n",
      "10.87995937623422\n"
     ]
    }
   ],
   "source": [
    "from sklearn.ensemble import RandomForestRegressor\n",
    "from model import train_gridsearch_cv\n",
    "from model import negative_mean_absolute_percentage_error\n",
    "\n",
    "param_grid = {'n_estimators': [50, 100],\n",
    "              'max_features': [None, 'auto'],\n",
    "              'min_samples_leaf': [2]}\n",
    "\n",
    "model_rf = train_gridsearch_cv(RandomForestRegressor(), X_train, y_train, param_grid)\n",
    "print(-negative_mean_absolute_percentage_error(estimator=model_rf, X=X_test, y_true=y_test))"
   ]
  },
  {
   "cell_type": "markdown",
   "metadata": {},
   "source": [
    "#### Elastic Net"
   ]
  },
  {
   "cell_type": "code",
   "execution_count": 18,
   "metadata": {},
   "outputs": [
    {
     "name": "stdout",
     "output_type": "stream",
     "text": [
      "Fitting 5 folds for each of 16 candidates, totalling 80 fits\n"
     ]
    },
    {
     "name": "stderr",
     "output_type": "stream",
     "text": [
      "[Parallel(n_jobs=1)]: Using backend SequentialBackend with 1 concurrent workers.\n",
      "/Users/tobias/.local/share/virtualenvs/house-price-prediction-uTbjeW-P/lib/python3.6/site-packages/sklearn/linear_model/coordinate_descent.py:492: ConvergenceWarning: Objective did not converge. You might want to increase the number of iterations. Fitting data with very small alpha may cause precision problems.\n",
      "  ConvergenceWarning)\n",
      "/Users/tobias/.local/share/virtualenvs/house-price-prediction-uTbjeW-P/lib/python3.6/site-packages/sklearn/linear_model/coordinate_descent.py:492: ConvergenceWarning: Objective did not converge. You might want to increase the number of iterations. Fitting data with very small alpha may cause precision problems.\n",
      "  ConvergenceWarning)\n",
      "/Users/tobias/.local/share/virtualenvs/house-price-prediction-uTbjeW-P/lib/python3.6/site-packages/sklearn/linear_model/coordinate_descent.py:492: ConvergenceWarning: Objective did not converge. You might want to increase the number of iterations. Fitting data with very small alpha may cause precision problems.\n",
      "  ConvergenceWarning)\n",
      "/Users/tobias/.local/share/virtualenvs/house-price-prediction-uTbjeW-P/lib/python3.6/site-packages/sklearn/linear_model/coordinate_descent.py:492: ConvergenceWarning: Objective did not converge. You might want to increase the number of iterations. Fitting data with very small alpha may cause precision problems.\n",
      "  ConvergenceWarning)\n",
      "/Users/tobias/.local/share/virtualenvs/house-price-prediction-uTbjeW-P/lib/python3.6/site-packages/sklearn/linear_model/coordinate_descent.py:492: ConvergenceWarning: Objective did not converge. You might want to increase the number of iterations. Fitting data with very small alpha may cause precision problems.\n",
      "  ConvergenceWarning)\n",
      "/Users/tobias/.local/share/virtualenvs/house-price-prediction-uTbjeW-P/lib/python3.6/site-packages/sklearn/linear_model/coordinate_descent.py:492: ConvergenceWarning: Objective did not converge. You might want to increase the number of iterations. Fitting data with very small alpha may cause precision problems.\n",
      "  ConvergenceWarning)\n",
      "/Users/tobias/.local/share/virtualenvs/house-price-prediction-uTbjeW-P/lib/python3.6/site-packages/sklearn/linear_model/coordinate_descent.py:492: ConvergenceWarning: Objective did not converge. You might want to increase the number of iterations. Fitting data with very small alpha may cause precision problems.\n",
      "  ConvergenceWarning)\n",
      "/Users/tobias/.local/share/virtualenvs/house-price-prediction-uTbjeW-P/lib/python3.6/site-packages/sklearn/linear_model/coordinate_descent.py:492: ConvergenceWarning: Objective did not converge. You might want to increase the number of iterations. Fitting data with very small alpha may cause precision problems.\n",
      "  ConvergenceWarning)\n",
      "/Users/tobias/.local/share/virtualenvs/house-price-prediction-uTbjeW-P/lib/python3.6/site-packages/sklearn/linear_model/coordinate_descent.py:492: ConvergenceWarning: Objective did not converge. You might want to increase the number of iterations. Fitting data with very small alpha may cause precision problems.\n",
      "  ConvergenceWarning)\n",
      "/Users/tobias/.local/share/virtualenvs/house-price-prediction-uTbjeW-P/lib/python3.6/site-packages/sklearn/linear_model/coordinate_descent.py:492: ConvergenceWarning: Objective did not converge. You might want to increase the number of iterations. Fitting data with very small alpha may cause precision problems.\n",
      "  ConvergenceWarning)\n",
      "/Users/tobias/.local/share/virtualenvs/house-price-prediction-uTbjeW-P/lib/python3.6/site-packages/sklearn/linear_model/coordinate_descent.py:492: ConvergenceWarning: Objective did not converge. You might want to increase the number of iterations. Fitting data with very small alpha may cause precision problems.\n",
      "  ConvergenceWarning)\n",
      "/Users/tobias/.local/share/virtualenvs/house-price-prediction-uTbjeW-P/lib/python3.6/site-packages/sklearn/linear_model/coordinate_descent.py:492: ConvergenceWarning: Objective did not converge. You might want to increase the number of iterations. Fitting data with very small alpha may cause precision problems.\n",
      "  ConvergenceWarning)\n",
      "/Users/tobias/.local/share/virtualenvs/house-price-prediction-uTbjeW-P/lib/python3.6/site-packages/sklearn/linear_model/coordinate_descent.py:492: ConvergenceWarning: Objective did not converge. You might want to increase the number of iterations. Fitting data with very small alpha may cause precision problems.\n",
      "  ConvergenceWarning)\n",
      "/Users/tobias/.local/share/virtualenvs/house-price-prediction-uTbjeW-P/lib/python3.6/site-packages/sklearn/linear_model/coordinate_descent.py:492: ConvergenceWarning: Objective did not converge. You might want to increase the number of iterations. Fitting data with very small alpha may cause precision problems.\n",
      "  ConvergenceWarning)\n",
      "/Users/tobias/.local/share/virtualenvs/house-price-prediction-uTbjeW-P/lib/python3.6/site-packages/sklearn/linear_model/coordinate_descent.py:492: ConvergenceWarning: Objective did not converge. You might want to increase the number of iterations. Fitting data with very small alpha may cause precision problems.\n",
      "  ConvergenceWarning)\n",
      "/Users/tobias/.local/share/virtualenvs/house-price-prediction-uTbjeW-P/lib/python3.6/site-packages/sklearn/linear_model/coordinate_descent.py:492: ConvergenceWarning: Objective did not converge. You might want to increase the number of iterations. Fitting data with very small alpha may cause precision problems.\n",
      "  ConvergenceWarning)\n",
      "/Users/tobias/.local/share/virtualenvs/house-price-prediction-uTbjeW-P/lib/python3.6/site-packages/sklearn/linear_model/coordinate_descent.py:492: ConvergenceWarning: Objective did not converge. You might want to increase the number of iterations. Fitting data with very small alpha may cause precision problems.\n",
      "  ConvergenceWarning)\n",
      "/Users/tobias/.local/share/virtualenvs/house-price-prediction-uTbjeW-P/lib/python3.6/site-packages/sklearn/linear_model/coordinate_descent.py:492: ConvergenceWarning: Objective did not converge. You might want to increase the number of iterations. Fitting data with very small alpha may cause precision problems.\n",
      "  ConvergenceWarning)\n",
      "/Users/tobias/.local/share/virtualenvs/house-price-prediction-uTbjeW-P/lib/python3.6/site-packages/sklearn/linear_model/coordinate_descent.py:492: ConvergenceWarning: Objective did not converge. You might want to increase the number of iterations. Fitting data with very small alpha may cause precision problems.\n",
      "  ConvergenceWarning)\n",
      "/Users/tobias/.local/share/virtualenvs/house-price-prediction-uTbjeW-P/lib/python3.6/site-packages/sklearn/linear_model/coordinate_descent.py:492: ConvergenceWarning: Objective did not converge. You might want to increase the number of iterations. Fitting data with very small alpha may cause precision problems.\n",
      "  ConvergenceWarning)\n",
      "/Users/tobias/.local/share/virtualenvs/house-price-prediction-uTbjeW-P/lib/python3.6/site-packages/sklearn/linear_model/coordinate_descent.py:492: ConvergenceWarning: Objective did not converge. You might want to increase the number of iterations. Fitting data with very small alpha may cause precision problems.\n",
      "  ConvergenceWarning)\n",
      "/Users/tobias/.local/share/virtualenvs/house-price-prediction-uTbjeW-P/lib/python3.6/site-packages/sklearn/linear_model/coordinate_descent.py:492: ConvergenceWarning: Objective did not converge. You might want to increase the number of iterations. Fitting data with very small alpha may cause precision problems.\n",
      "  ConvergenceWarning)\n",
      "/Users/tobias/.local/share/virtualenvs/house-price-prediction-uTbjeW-P/lib/python3.6/site-packages/sklearn/linear_model/coordinate_descent.py:492: ConvergenceWarning: Objective did not converge. You might want to increase the number of iterations. Fitting data with very small alpha may cause precision problems.\n",
      "  ConvergenceWarning)\n",
      "/Users/tobias/.local/share/virtualenvs/house-price-prediction-uTbjeW-P/lib/python3.6/site-packages/sklearn/linear_model/coordinate_descent.py:492: ConvergenceWarning: Objective did not converge. You might want to increase the number of iterations. Fitting data with very small alpha may cause precision problems.\n",
      "  ConvergenceWarning)\n",
      "[Parallel(n_jobs=1)]: Done  80 out of  80 | elapsed:   11.0s finished\n",
      "/Users/tobias/.local/share/virtualenvs/house-price-prediction-uTbjeW-P/lib/python3.6/site-packages/sklearn/model_selection/_search.py:841: DeprecationWarning: The default of the `iid` parameter will change from True to False in version 0.22 and will be removed in 0.24. This will change numeric results when test-set sizes are unequal.\n",
      "  DeprecationWarning)\n"
     ]
    },
    {
     "name": "stdout",
     "output_type": "stream",
     "text": [
      "MSE 1557528422.2164705\n",
      "13.14901089920045\n"
     ]
    }
   ],
   "source": [
    "from sklearn.linear_model import ElasticNet\n",
    "from model import negative_mean_absolute_percentage_error\n",
    "from model import train_gridsearch_cv\n",
    "\n",
    "param_grid = {'alpha': [1.0, 2.0],\n",
    "              'fit_intercept': ['True'],\n",
    "              'normalize': [True, False],\n",
    "              'positive': [True, False],\n",
    "              'max_iter': [20000,],\n",
    "              'tol': [0.0001, 0.00001]}\n",
    "model_el = train_gridsearch_cv(ElasticNet(), X_train, y_train, param_grid)\n",
    "print(-negative_mean_absolute_percentage_error(estimator=model_el, X=X_test, y_true=y_test))"
   ]
  },
  {
   "cell_type": "markdown",
   "metadata": {},
   "source": [
    "#### Neural Network"
   ]
  },
  {
   "cell_type": "code",
   "execution_count": 13,
   "metadata": {},
   "outputs": [
    {
     "name": "stdout",
     "output_type": "stream",
     "text": [
      "Layer Sizes: 37 -> (7, 11, 3) -> 1\n"
     ]
    }
   ],
   "source": [
    "from sklearn.neural_network import MLPRegressor\n",
    "from model import train_gridsearch_cv\n",
    "\n",
    "model_nn = MLPRegressor()\n",
    "\n",
    "inputs = int(len(list(X_train)))\n",
    "hidden_layers = (int(0.2*inputs), int(0.3*inputs), int(0.1*inputs))\n",
    "print(\"Layer Sizes:\", inputs, \"->\", hidden_layers, \"->\", 1)\n",
    "\n",
    "param_grid = {'hidden_layer_sizes': [hidden_layers],\n",
    "              'activation': ['relu'],\n",
    "              'alpha': [.001, 0.0001],\n",
    "              'solver': ['adam', 'lbfgs'],\n",
    "              'batch_size': [32, 128],\n",
    "              'learning_rate': ['invscaling',],\n",
    "              'learning_rate_init':[0.001, 0.01],\n",
    "              'max_iter': [7000,],\n",
    "              'early_stopping': [True,],\n",
    "              'n_iter_no_change': [15,],\n",
    "              'random_state':[42]}\n",
    "\n",
    "#model_nn = train_gridsearch_cv(model_nn, X_train, y_train, param_grid)\n",
    "#print(-negative_mean_absolute_percentage_error(estimator=model_nn, X=X_test, y_true=y_test))"
   ]
  },
  {
   "cell_type": "markdown",
   "metadata": {},
   "source": [
    "#### Save model"
   ]
  },
  {
   "cell_type": "code",
   "execution_count": 14,
   "metadata": {},
   "outputs": [
    {
     "data": {
      "text/plain": [
       "['/Users/tobias/PycharmProjects/house-price-prediction/obj/model/ElasticNet.joblib']"
      ]
     },
     "execution_count": 14,
     "metadata": {},
     "output_type": "execute_result"
    }
   ],
   "source": [
    "from sklearn.externals import joblib\n",
    "\n",
    "model = XGBoostRegressor\n",
    "joblib.dump(model, PATH+MODEL_PATH+'XGBoostRegressor'+'.joblib')\n",
    "\n",
    "#model = model_nn\n",
    "#joblib.dump(model, PATH+MODEL_PATH+'NeuralNetwork'+'.joblib')\n",
    "\n",
    "model = model_rf\n",
    "joblib.dump(model, PATH+MODEL_PATH+'RandomForestRegressor'+'.joblib')\n",
    "\n",
    "model = model_el\n",
    "joblib.dump(model, PATH+MODEL_PATH+'ElasticNet'+'.joblib')\n"
   ]
  },
  {
   "cell_type": "markdown",
   "metadata": {},
   "source": [
    "### Prediction\n",
    "Predicting results and combining regressors."
   ]
  },
  {
   "cell_type": "code",
   "execution_count": 15,
   "metadata": {},
   "outputs": [],
   "source": [
    "prediction_xgboost = model_xgb.predict(X_pred)\n",
    "prediction_rf = model_rf.predict(X_pred)\n",
    "#prediction_el = model_el.predict(X_pred)\n",
    "#prediction_nn = model_nn.predict(X_pred)\n",
    "prediction_gb = model_gb.predict(X_pred)\n",
    "\n",
    "prediction = pd.DataFrame(data=prediction_xgboost,\n",
    "                          columns=['XGBoost'],\n",
    "                          index=submission_index)\n",
    "#prediction['RandomForest'] = prediction_rf\n",
    "#prediction['ElasticNet'] = prediction_el\n",
    "#prediction['NeuralNet'] = prediction_nn\n",
    "prediction['GradientBoost'] = prediction_gb\n",
    "prediction['SalePrice'] = prediction.mean(axis=1)\n",
    "prediction = prediction['SalePrice']"
   ]
  },
  {
   "cell_type": "code",
   "execution_count": 16,
   "metadata": {},
   "outputs": [],
   "source": [
    "prediction = pd.DataFrame(data=prediction, columns=['SalePrice'], index=submission_index)\n",
    "prediction.to_csv(PATH + DATA_PATH + 'predictions/' + 'prediction.csv')"
   ]
  }
 ],
 "metadata": {
  "kernelspec": {
   "display_name": "house-price-prediction",
   "language": "python",
   "name": "house-price-prediction"
  },
  "language_info": {
   "codemirror_mode": {
    "name": "ipython",
    "version": 3
   },
   "file_extension": ".py",
   "mimetype": "text/x-python",
   "name": "python",
   "nbconvert_exporter": "python",
   "pygments_lexer": "ipython3",
   "version": "3.6.1"
  }
 },
 "nbformat": 4,
 "nbformat_minor": 2
}
