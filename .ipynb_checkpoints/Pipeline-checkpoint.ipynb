{
 "cells": [
  {
   "cell_type": "code",
   "execution_count": 1,
   "metadata": {},
   "outputs": [],
   "source": [
    "import random\n",
    "import numpy as np\n",
    "random.seed(42)\n",
    "np.random.seed(42)\n",
    "\n",
    "PATH = 'C:/Users/TobiasRummelsberger/PycharmProjects/house-price-prediction/'\n",
    "#PATH = '/Users/tobias/PycharmProjects/house-price-prediction/'\n",
    "DATA_PATH = 'obj/data/'"
   ]
  },
  {
   "cell_type": "code",
   "execution_count": 2,
   "metadata": {},
   "outputs": [],
   "source": [
    "train_path = 'input_data/train.csv'\n",
    "test_path = 'input_data/test.csv'"
   ]
  },
  {
   "cell_type": "code",
   "execution_count": 3,
   "metadata": {},
   "outputs": [
    {
     "name": "stdout",
     "output_type": "stream",
     "text": [
      "The data set contains 43 categorical features and 37 numerical features. The train data set contains 1168 rows and the test data set contains 292 rows.\n",
      "The categorical features are ['MSZoning', 'Street', 'Alley', 'LotShape', 'LandContour', 'Utilities', 'LotConfig', 'LandSlope', 'Neighborhood', 'Condition1', 'Condition2', 'BldgType', 'HouseStyle', 'RoofStyle', 'RoofMatl', 'Exterior1st', 'Exterior2nd', 'MasVnrType', 'ExterQual', 'ExterCond', 'Foundation', 'BsmtQual', 'BsmtCond', 'BsmtExposure', 'BsmtFinType1', 'BsmtFinType2', 'Heating', 'HeatingQC', 'CentralAir', 'Electrical', 'KitchenQual', 'Functional', 'FireplaceQu', 'GarageType', 'GarageFinish', 'GarageQual', 'GarageCond', 'PavedDrive', 'PoolQC', 'Fence', 'MiscFeature', 'SaleType', 'SaleCondition'] and the numerical features are ['Id', 'MSSubClass', 'LotFrontage', 'LotArea', 'OverallQual', 'OverallCond', 'YearBuilt', 'YearRemodAdd', 'MasVnrArea', 'BsmtFinSF1', 'BsmtFinSF2', 'BsmtUnfSF', 'TotalBsmtSF', '1stFlrSF', '2ndFlrSF', 'LowQualFinSF', 'GrLivArea', 'BsmtFullBath', 'BsmtHalfBath', 'FullBath', 'HalfBath', 'BedroomAbvGr', 'KitchenAbvGr', 'TotRmsAbvGrd', 'Fireplaces', 'GarageYrBlt', 'GarageCars', 'GarageArea', 'WoodDeckSF', 'OpenPorchSF', 'EnclosedPorch', '3SsnPorch', 'ScreenPorch', 'PoolArea', 'MiscVal', 'MoSold', 'YrSold']\n"
     ]
    }
   ],
   "source": [
    "import pandas as pd\n",
    "from load_data import load_data\n",
    "\n",
    "X_train, X_test, y_train, y_test = load_data(PATH + DATA_PATH + train_path)\n",
    "\n",
    "#X_test = pd.read_csv(PATH + DATA_PATH + test_path)\n",
    "#submission_index = X_test['Id']"
   ]
  },
  {
   "cell_type": "code",
   "execution_count": 4,
   "metadata": {},
   "outputs": [
    {
     "data": {
      "text/plain": [
       "<Figure size 1000x800 with 2 Axes>"
      ]
     },
     "metadata": {},
     "output_type": "display_data"
    },
    {
     "data": {
      "text/plain": [
       "0"
      ]
     },
     "execution_count": 4,
     "metadata": {},
     "output_type": "execute_result"
    }
   ],
   "source": [
    "from exploratory_data_analysis.eda import plot_correlation_matrix, plot_scatter_matrix\n",
    "\n",
    "plot_correlation_matrix(X_train)\n",
    "#plot_scatter_matrix(X_train, columns=['SalePrice', 'LotArea'])"
   ]
  },
  {
   "cell_type": "markdown",
   "metadata": {},
   "source": [
    "# Replace or Drop NA VALUES"
   ]
  },
  {
   "cell_type": "code",
   "execution_count": 5,
   "metadata": {},
   "outputs": [],
   "source": [
    "from feature_preprocessing import preprocess_alley, preprocess_LotFrontage, preprocess_MasVnrType, preprocess_BsmtQual, preprocess_BsmtCond, preprocess_BsmtExposure, preprocess_BsmtFinType1, preprocess_BsmtFinType2, preprocess_Electrical, preprocess_FireplaceQu, preprocess_GarageType, preprocess_GarageFinish, preprocess_GarageQual, preprocess_GarageCond, preprocess_PoolQC, preprocess_Fence, preprocess_MiscFeature, preprocess_MSZoning, preprocess_Utilities, preprocess_Exterior1st, preprocess_Exterior2nd, preprocess_KitchenQual, preprocess_Functional, preprocess_SaleType\n",
    "import pandas as pd\n",
    "import numpy as np\n",
    "\n",
    "X_train, X_test = preprocess_alley(X_train, X_test)\n",
    "X_train, X_test = preprocess_MSZoning(X_train, X_test)\n",
    "X_train, X_test = preprocess_LotFrontage(X_train, X_test)\n",
    "X_train, X_test = preprocess_MasVnrType(X_train, X_test)\n",
    "X_train, X_test = preprocess_BsmtQual(X_train, X_test)\n",
    "X_train, X_test = preprocess_BsmtCond(X_train, X_test)\n",
    "X_train, X_test = preprocess_BsmtExposure(X_train, X_test)\n",
    "X_train, X_test = preprocess_BsmtFinType1(X_train, X_test)\n",
    "X_train, X_test = preprocess_BsmtFinType2(X_train, X_test)\n",
    "X_train, X_test = preprocess_Electrical(X_train, X_test)\n",
    "X_train, X_test = preprocess_FireplaceQu(X_train, X_test)\n",
    "X_train, X_test = preprocess_GarageType(X_train, X_test)\n",
    "X_train, X_test = preprocess_GarageFinish(X_train, X_test)\n",
    "X_train, X_test = preprocess_GarageQual(X_train, X_test)\n",
    "X_train, X_test = preprocess_GarageCond(X_train, X_test)\n",
    "X_train, X_test = preprocess_PoolQC(X_train, X_test)\n",
    "X_train, X_test = preprocess_Fence(X_train, X_test)\n",
    "X_train, X_test = preprocess_MiscFeature(X_train, X_test)\n",
    "X_train, X_test = preprocess_Utilities(X_train, X_test)\n",
    "X_train, X_test = preprocess_Exterior1st(X_train, X_test)\n",
    "X_train, X_test = preprocess_Exterior2nd(X_train, X_test)\n",
    "X_train, X_test = preprocess_KitchenQual(X_train, X_test)\n",
    "X_train, X_test = preprocess_Functional(X_train, X_test)\n",
    "X_train, X_test = preprocess_SaleType(X_train, X_test)"
   ]
  },
  {
   "cell_type": "code",
   "execution_count": 6,
   "metadata": {},
   "outputs": [],
   "source": [
    "from feature_preprocessing import one_hot_encoding\n",
    "\n",
    "X_train.fillna(value=0, inplace=True)\n",
    "X_test.fillna(value=0, inplace=True)\n",
    "\n",
    "X_train, X_test = one_hot_encoding(X_train, X_test, PATH)"
   ]
  },
  {
   "cell_type": "code",
   "execution_count": 7,
   "metadata": {},
   "outputs": [],
   "source": [
    "from feature_preprocessing import principal_component_analysis\n",
    "\n",
    "#X_train, X_test = principal_component_analysis(X_train, X_test, PATH)"
   ]
  },
  {
   "cell_type": "code",
   "execution_count": null,
   "metadata": {},
   "outputs": [],
   "source": [
    "import xgboost as xgb\n",
    "from model import train_gridsearch_cv\n",
    "from model import negative_mean_absolute_percentage_error\n",
    "\n",
    "XGBoostRegressor = xgb.XGBRegressor()\n",
    "param_grid = {'eta':[0.2, 0.3, 0.5], \n",
    "              'max_deth':[3, 5], \n",
    "              'learning_rate':[0.01, 0.07], \n",
    "              'n_estimators':[1000,],\n",
    "              'booster':['gbtree',], \n",
    "              'min_child_weight':[0.5, 1.0, 2.0], \n",
    "              'subsample':[0.7, 1.0],\n",
    "              'random_state':[42,], \n",
    "              'tree_method': ['auto',], \n",
    "              'alpha': [2,],\n",
    "              'gamma': [1,],\n",
    "              'lambda':[1,], \n",
    "              'colsample_bytree': [1,]}\n",
    "model_xgb = train_gridsearch_cv(XGBoostRegressor, X_train, y_train, param_grid)\n",
    "print(-negative_mean_absolute_percentage_error(estimator=model_xgb, X=X_test, y_true=y_test))"
   ]
  },
  {
   "cell_type": "code",
   "execution_count": null,
   "metadata": {},
   "outputs": [],
   "source": [
    "from sklearn.ensemble import RandomForestRegressor\n",
    "from model import train_gridsearch_cv\n",
    "from model import negative_mean_absolute_percentage_error\n",
    "\n",
    "param_grid = {'n_estimators': [50, 100],\n",
    "              'max_features': [None, 'auto'],\n",
    "              'min_samples_leaf': [2]}\n",
    "\n",
    "model_rf = train_gridsearch_cv(RandomForestRegressor(), X_train, y_train, param_grid)\n",
    "print(-negative_mean_absolute_percentage_error(estimator=model_rf, X=X_train, y_true=y_train))"
   ]
  },
  {
   "cell_type": "code",
   "execution_count": null,
   "metadata": {},
   "outputs": [],
   "source": [
    "from sklearn.linear_model import ElasticNet\n",
    "from model import negative_mean_absolute_percentage_error\n",
    "from model import train_gridsearch_cv\n",
    "\n",
    "model_el = ElasticNet()\n",
    "model_el = model_el.fit(X_train, y_train)\n",
    "\n",
    "print(-negative_mean_absolute_percentage_error(estimator=model_el, X=X_train, y_true=y_train))"
   ]
  },
  {
   "cell_type": "code",
   "execution_count": null,
   "metadata": {},
   "outputs": [
    {
     "name": "stdout",
     "output_type": "stream",
     "text": [
      "Layer Sizes: 296 -> (444, 592, 296, 222, 148, 59) -> 1\n",
      "Fitting 3 folds for each of 48 candidates, totalling 144 fits\n"
     ]
    },
    {
     "name": "stderr",
     "output_type": "stream",
     "text": [
      "[Parallel(n_jobs=-1)]: Using backend LokyBackend with 8 concurrent workers.\n"
     ]
    }
   ],
   "source": [
    "from sklearn.neural_network import MLPRegressor\n",
    "from model import train_gridsearch_cv\n",
    "\n",
    "model_nn = MLPRegressor()\n",
    "\n",
    "inputs = int(len(list(X_train)))\n",
    "hidden_layers = (int(1.5*inputs), int(2*inputs), int(1*inputs), int(0.75*inputs), int(0.5*inputs), int(0.2*inputs))\n",
    "print(\"Layer Sizes:\", inputs, \"->\", hidden_layers, \"->\", 1)\n",
    "\n",
    "param_grid = {'hidden_layer_sizes': [hidden_layers],\n",
    "              'activation': ['relu'],\n",
    "              'alpha': [0.01, 0.001, 0.0001],\n",
    "              'solver': ['adam', 'lbfgs'],\n",
    "              'batch_size': [16, 32, 64, 128],\n",
    "              'learning_rate': ['invscaling',],\n",
    "              'learning_rate_init':[0.001, 0.01],\n",
    "              'max_iter': [7000,],\n",
    "              'early_stopping': [True,],\n",
    "              'n_iter_no_change': [15,],\n",
    "              'random_state':[42,]}\n",
    "\n",
    "model_nn = train_gridsearch_cv(model_nn, X_train, y_train, param_grid)\n",
    "print(-negative_mean_absolute_percentage_error(estimator=model_nn, X=X_test, y_true=y_test))"
   ]
  },
  {
   "cell_type": "code",
   "execution_count": null,
   "metadata": {},
   "outputs": [],
   "source": [
    "prediction_xgboost = model_xgb.predict(X_test)\n",
    "prediction_rf = model_rf.predict(X_test)\n",
    "prediction_el = model_el.predict(X_test)\n",
    "prediction_nn = model_nn.predict(X_test)\n",
    "\n",
    "prediction = pd.DataFrame(data=prediction_el,\n",
    "                          columns=['ElasticNet'],\n",
    "                          index=submission_index)\n",
    "prediction['RandomForest'] = prediction_rf\n",
    "prediction['XGBoost'] = prediction_xgboost\n",
    "prediction['NeuralNet'] = prediction_nn\n",
    "prediction['SalePrice'] = prediction.mean(axis=1)\n",
    "prediction = prediction['SalePrice']"
   ]
  },
  {
   "cell_type": "code",
   "execution_count": null,
   "metadata": {},
   "outputs": [],
   "source": [
    "prediction = pd.DataFrame(data=prediction, columns=['SalePrice'], index=submission_index)\n",
    "prediction.to_csv(PATH + DATA_PATH + 'prediction.csv')"
   ]
  },
  {
   "cell_type": "code",
   "execution_count": null,
   "metadata": {},
   "outputs": [],
   "source": []
  }
 ],
 "metadata": {
  "kernelspec": {
   "display_name": "house-price-prediction",
   "language": "python",
   "name": "house-price-prediction"
  },
  "language_info": {
   "codemirror_mode": {
    "name": "ipython",
    "version": 3
   },
   "file_extension": ".py",
   "mimetype": "text/x-python",
   "name": "python",
   "nbconvert_exporter": "python",
   "pygments_lexer": "ipython3",
   "version": "3.6.5"
  }
 },
 "nbformat": 4,
 "nbformat_minor": 2
}
