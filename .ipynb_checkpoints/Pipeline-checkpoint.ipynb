{
 "cells": [
  {
   "cell_type": "code",
   "execution_count": null,
   "metadata": {},
   "outputs": [],
   "source": [
    "import random\n",
    "import numpy as np\n",
    "random.seed(42)\n",
    "np.random.seed(42)\n",
    "\n",
    "#PATH = 'C:/Users/TobiasRummelsberger/PycharmProjects/house-price-prediction/'\n",
    "PATH = '/Users/tobias/PycharmProjects/house-price-prediction/'\n",
    "DATA_PATH = 'obj/data/'"
   ]
  },
  {
   "cell_type": "code",
   "execution_count": null,
   "metadata": {},
   "outputs": [],
   "source": [
    "train_path = 'input_data/train.csv'\n",
    "test_path = 'input_data/test.csv'"
   ]
  },
  {
   "cell_type": "code",
   "execution_count": null,
   "metadata": {},
   "outputs": [],
   "source": [
    "import pandas as pd\n",
    "from load_data import load_data\n",
    "\n",
    "X_train, X_test, y_train, y_test = load_data(PATH + DATA_PATH + train_path)\n",
    "\n",
    "X_test = pd.read_csv(PATH + DATA_PATH + test_path)\n",
    "submission_index = X_test['Id']"
   ]
  },
  {
   "cell_type": "code",
   "execution_count": null,
   "metadata": {},
   "outputs": [],
   "source": [
    "from exploratory_data_analysis.eda import plot_correlation_matrix, plot_scatter_matrix\n",
    "\n",
    "plot_correlation_matrix(X_train)\n",
    "#plot_scatter_matrix(X_train, columns=['SalePrice', 'LotArea'])"
   ]
  },
  {
   "cell_type": "markdown",
   "metadata": {},
   "source": [
    "# Replace or Drop NA VALUES"
   ]
  },
  {
   "cell_type": "code",
   "execution_count": null,
   "metadata": {},
   "outputs": [],
   "source": [
    "from feature_preprocessing import preprocess_alley, preprocess_LotFrontage, preprocess_MasVnrType, preprocess_BsmtQual, preprocess_BsmtCond, preprocess_BsmtExposure, preprocess_BsmtFinType1, preprocess_BsmtFinType2, preprocess_Electrical, preprocess_FireplaceQu, preprocess_GarageType, preprocess_GarageFinish, preprocess_GarageQual, preprocess_GarageCond, preprocess_PoolQC, preprocess_Fence, preprocess_MiscFeature, preprocess_MSZoning, preprocess_Utilities, preprocess_Exterior1st, preprocess_Exterior2nd, preprocess_KitchenQual, preprocess_Functional, preprocess_SaleType\n",
    "import pandas as pd\n",
    "import numpy as np\n",
    "\n",
    "X_train, X_test = preprocess_alley(X_train, X_test)\n",
    "X_train, X_test = preprocess_MSZoning(X_train, X_test)\n",
    "X_train, X_test = preprocess_LotFrontage(X_train, X_test)\n",
    "X_train, X_test = preprocess_MasVnrType(X_train, X_test)\n",
    "X_train, X_test = preprocess_BsmtQual(X_train, X_test)\n",
    "X_train, X_test = preprocess_BsmtCond(X_train, X_test)\n",
    "X_train, X_test = preprocess_BsmtExposure(X_train, X_test)\n",
    "X_train, X_test = preprocess_BsmtFinType1(X_train, X_test)\n",
    "X_train, X_test = preprocess_BsmtFinType2(X_train, X_test)\n",
    "X_train, X_test = preprocess_Electrical(X_train, X_test)\n",
    "X_train, X_test = preprocess_FireplaceQu(X_train, X_test)\n",
    "X_train, X_test = preprocess_GarageType(X_train, X_test)\n",
    "X_train, X_test = preprocess_GarageFinish(X_train, X_test)\n",
    "X_train, X_test = preprocess_GarageQual(X_train, X_test)\n",
    "X_train, X_test = preprocess_GarageCond(X_train, X_test)\n",
    "X_train, X_test = preprocess_PoolQC(X_train, X_test)\n",
    "X_train, X_test = preprocess_Fence(X_train, X_test)\n",
    "X_train, X_test = preprocess_MiscFeature(X_train, X_test)\n",
    "X_train, X_test = preprocess_Utilities(X_train, X_test)\n",
    "X_train, X_test = preprocess_Exterior1st(X_train, X_test)\n",
    "X_train, X_test = preprocess_Exterior2nd(X_train, X_test)\n",
    "X_train, X_test = preprocess_KitchenQual(X_train, X_test)\n",
    "X_train, X_test = preprocess_Functional(X_train, X_test)\n",
    "X_train, X_test = preprocess_SaleType(X_train, X_test)"
   ]
  },
  {
   "cell_type": "code",
   "execution_count": null,
   "metadata": {},
   "outputs": [],
   "source": [
    "from feature_preprocessing import one_hot_encoding\n",
    "\n",
    "X_train.fillna(value=0, inplace=True)\n",
    "X_test.fillna(value=0, inplace=True)\n",
    "\n",
    "X_train, X_test = one_hot_encoding(X_train, X_test, PATH)"
   ]
  },
  {
   "cell_type": "code",
   "execution_count": null,
   "metadata": {},
   "outputs": [],
   "source": [
    "from feature_preprocessing import principal_component_analysis\n",
    "\n",
    "#X_train, X_test = principal_component_analysis(X_train, X_test, PATH)"
   ]
  },
  {
   "cell_type": "code",
   "execution_count": null,
   "metadata": {},
   "outputs": [],
   "source": [
    "import xgboost as xgb\n",
    "from model import train_gridsearch_cv\n",
    "from model import negative_mean_absolute_percentage_error\n",
    "\n",
    "XGBoostRegressor = xgb.XGBRegressor()\n",
    "param_grid = {'eta':[0.2, 0.3, 0.5], \n",
    "              'max_deth':[3, 5], \n",
    "              'learning_rate':[0.01, 0.07], \n",
    "              'n_estimators':[1000,],\n",
    "              'booster':['gbtree',], \n",
    "              'min_child_weight':[0.5, 1.0, 2.0], \n",
    "              'subsample':[0.7, 1.0],\n",
    "              'random_state':[42,], \n",
    "              'tree_method': ['auto',], \n",
    "              'alpha': [2,],\n",
    "              'gamma': [1,],\n",
    "              'lambda':[1,], \n",
    "              'colsample_bytree': [1,]}\n",
    "model_xgb = train_gridsearch_cv(XGBoostRegressor, X_train, y_train, param_grid)\n",
    "print(-negative_mean_absolute_percentage_error(estimator=model_xgb, X=X_test, y_true=y_test))"
   ]
  },
  {
   "cell_type": "code",
   "execution_count": null,
   "metadata": {},
   "outputs": [],
   "source": [
    "from sklearn.ensemble import RandomForestRegressor\n",
    "from model import train_gridsearch_cv\n",
    "\n",
    "param_grid = {'n_estimators': [50, 100],\n",
    "              'max_features': [None, 'auto'],\n",
    "              'min_samples_leaf': [2]}\n",
    "\n",
    "model_rf = train_gridsearch_cv(RandomForestRegressor(), X_train, y_train, param_grid)\n",
    "print(-negative_mean_absolute_percentage_error(estimator=model_rf, X=X_train, y_true=y_train))"
   ]
  },
  {
   "cell_type": "code",
   "execution_count": null,
   "metadata": {},
   "outputs": [],
   "source": [
    "from sklearn.linear_model import ElasticNet\n",
    "from sklearn.neural_network import MLPRegressor\n",
    "from model import negative_mean_absolute_percentage_error\n",
    "from model import train_gridsearch_cv\n",
    "\n",
    "columns=list(X_train)\n",
    "columns = [i for i in range(0, len(columns))]\n",
    "X_train.columns=columns\n",
    "X_test.columns=columns\n",
    "\n",
    "model = RandomForestRegressor()\n",
    "model = model.fit(X_train, y_train)\n",
    "\n",
    "print(-negative_mean_absolute_percentage_error(estimator=model, X=X_train, y_true=y_train))"
   ]
  },
  {
   "cell_type": "code",
   "execution_count": null,
   "metadata": {},
   "outputs": [],
   "source": [
    "prediction = pd.DataFrame(data=model_xgb.predict(X_test), columns=['SalePrice'], index=submission_index)\n",
    "prediction.to_csv(PATH + DATA_PATH + 'prediction.csv')"
   ]
  },
  {
   "cell_type": "code",
   "execution_count": null,
   "metadata": {},
   "outputs": [],
   "source": []
  }
 ],
 "metadata": {
  "kernelspec": {
   "display_name": "house-price-prediction",
   "language": "python",
   "name": "house-price-prediction"
  },
  "language_info": {
   "codemirror_mode": {
    "name": "ipython",
    "version": 3
   },
   "file_extension": ".py",
   "mimetype": "text/x-python",
   "name": "python",
   "nbconvert_exporter": "python",
   "pygments_lexer": "ipython3",
   "version": "3.6.1"
  }
 },
 "nbformat": 4,
 "nbformat_minor": 2
}
